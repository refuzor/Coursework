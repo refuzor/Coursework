{
 "cells": [
  {
   "cell_type": "markdown",
   "id": "dd0702f2-e0e8-4187-a9a4-dede15c1e0cc",
   "metadata": {},
   "source": [
    "# Ames Housing Price analysis\n",
    "\n",
    "Author: Matti Kahola\n",
    "\n",
    "## TABLE OF CONTENTS:\n",
    "* [Data import and formatting](#data-format)\n",
    "* [Data Cleaning](#data-cleaning)\n",
    "* [Exploratory Data Analysis ](#data-analysis)\n",
    "* [Data Visualisation](#data-visualisation)\n",
    "* [Discussion](#discussion)\n",
    "* [Conclusions](#conclusions)"
   ]
  },
  {
   "cell_type": "markdown",
   "id": "ad311d11-a2ff-4dd5-a33b-4aa74718d290",
   "metadata": {},
   "source": [
    "## Data import and formatting <a class=\"anchor\" id=\"data-format\">"
   ]
  },
  {
   "cell_type": "markdown",
   "id": "606dbe1f-5178-48e3-a643-8fa240184bc2",
   "metadata": {},
   "source": [
    "## Data Cleaning <a class=\"anchor\" id=\"data-cleaning\"> "
   ]
  },
  {
   "cell_type": "markdown",
   "id": "87c395b8-a523-4ebc-a0bc-f76c42f1f3cf",
   "metadata": {},
   "source": [
    "## Exploratory Data Analysis <a class=\"anchor\" id=\"data-analysis\">"
   ]
  },
  {
   "cell_type": "markdown",
   "id": "6a1b2ce0-3581-4377-b8e1-9eee9a8e9b58",
   "metadata": {},
   "source": [
    "## Data Visualisation <a class=\"anchor\" id=\"data-visualisation\">"
   ]
  },
  {
   "cell_type": "markdown",
   "id": "f6500f5c-fd6b-4d3c-a3e4-36b5b637cb27",
   "metadata": {},
   "source": [
    "## Discussion <a class=\"anchor\" id=\"discussion\">"
   ]
  },
  {
   "cell_type": "markdown",
   "id": "a6347337-7c5b-44c1-bae3-8f14cc85f8d4",
   "metadata": {},
   "source": [
    "## Conclusions <a class=\"anchor\" id=\"conclusions\">"
   ]
  }
 ],
 "metadata": {
  "kernelspec": {
   "display_name": "Python 3",
   "language": "python",
   "name": "python3"
  },
  "language_info": {
   "codemirror_mode": {
    "name": "ipython",
    "version": 3
   },
   "file_extension": ".py",
   "mimetype": "text/x-python",
   "name": "python",
   "nbconvert_exporter": "python",
   "pygments_lexer": "ipython3",
   "version": "3.8.8"
  }
 },
 "nbformat": 4,
 "nbformat_minor": 5
}
